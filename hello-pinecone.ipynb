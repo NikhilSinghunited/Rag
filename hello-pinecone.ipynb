{
 "cells": [
  {
   "cell_type": "code",
   "execution_count": 7,
   "id": "2d4402e6",
   "metadata": {},
   "outputs": [
    {
     "name": "stdout",
     "output_type": "stream",
     "text": [
      "Collecting pinecone==6.0.2\n",
      "  Using cached pinecone-6.0.2-py3-none-any.whl.metadata (9.0 kB)\n",
      "Requirement already satisfied: certifi>=2019.11.17 in c:\\users\\nikhil.singh\\onedrive - aionos\\desktop\\rag\\venv\\lib\\site-packages (from pinecone==6.0.2) (2025.8.3)\n",
      "Collecting pinecone-plugin-interface<0.0.8,>=0.0.7 (from pinecone==6.0.2)\n",
      "  Downloading pinecone_plugin_interface-0.0.7-py3-none-any.whl.metadata (1.2 kB)\n",
      "Requirement already satisfied: python-dateutil>=2.5.3 in c:\\users\\nikhil.singh\\onedrive - aionos\\desktop\\rag\\venv\\lib\\site-packages (from pinecone==6.0.2) (2.9.0.post0)\n",
      "Requirement already satisfied: typing-extensions>=3.7.4 in c:\\users\\nikhil.singh\\onedrive - aionos\\desktop\\rag\\venv\\lib\\site-packages (from pinecone==6.0.2) (4.15.0)\n",
      "Requirement already satisfied: urllib3>=1.26.5 in c:\\users\\nikhil.singh\\onedrive - aionos\\desktop\\rag\\venv\\lib\\site-packages (from pinecone==6.0.2) (2.5.0)\n",
      "Requirement already satisfied: six>=1.5 in c:\\users\\nikhil.singh\\onedrive - aionos\\desktop\\rag\\venv\\lib\\site-packages (from python-dateutil>=2.5.3->pinecone==6.0.2) (1.17.0)\n",
      "Using cached pinecone-6.0.2-py3-none-any.whl (421 kB)\n",
      "Downloading pinecone_plugin_interface-0.0.7-py3-none-any.whl (6.2 kB)\n",
      "Installing collected packages: pinecone-plugin-interface, pinecone\n",
      "\n",
      "   -------------------- ------------------- 1/2 [pinecone]\n",
      "   -------------------- ------------------- 1/2 [pinecone]\n",
      "   -------------------- ------------------- 1/2 [pinecone]\n",
      "   -------------------- ------------------- 1/2 [pinecone]\n",
      "   -------------------- ------------------- 1/2 [pinecone]\n",
      "   -------------------- ------------------- 1/2 [pinecone]\n",
      "   -------------------- ------------------- 1/2 [pinecone]\n",
      "   -------------------- ------------------- 1/2 [pinecone]\n",
      "   -------------------- ------------------- 1/2 [pinecone]\n",
      "   -------------------- ------------------- 1/2 [pinecone]\n",
      "   -------------------- ------------------- 1/2 [pinecone]\n",
      "   -------------------- ------------------- 1/2 [pinecone]\n",
      "   -------------------- ------------------- 1/2 [pinecone]\n",
      "   -------------------- ------------------- 1/2 [pinecone]\n",
      "   -------------------- ------------------- 1/2 [pinecone]\n",
      "   -------------------- ------------------- 1/2 [pinecone]\n",
      "   -------------------- ------------------- 1/2 [pinecone]\n",
      "   -------------------- ------------------- 1/2 [pinecone]\n",
      "   -------------------- ------------------- 1/2 [pinecone]\n",
      "   -------------------- ------------------- 1/2 [pinecone]\n",
      "   ---------------------------------------- 2/2 [pinecone]\n",
      "\n",
      "Successfully installed pinecone-6.0.2 pinecone-plugin-interface-0.0.7\n",
      "Note: you may need to restart the kernel to use updated packages.\n"
     ]
    }
   ],
   "source": [
    "pip install pinecone==6.0.2"
   ]
  },
  {
   "cell_type": "code",
   "execution_count": 8,
   "id": "a75d1dfc",
   "metadata": {},
   "outputs": [
    {
     "name": "stderr",
     "output_type": "stream",
     "text": [
      "c:\\Users\\nikhil.singh\\OneDrive - Aionos\\Desktop\\rag\\venv\\Lib\\site-packages\\tqdm\\auto.py:21: TqdmWarning: IProgress not found. Please update jupyter and ipywidgets. See https://ipywidgets.readthedocs.io/en/stable/user_install.html\n",
      "  from .autonotebook import tqdm as notebook_tqdm\n"
     ]
    }
   ],
   "source": [
    "import os\n",
    "from  pinecone import Pinecone\n",
    "\n",
    "# Get your API key at app.pinecone.io\n",
    "api_key = os.environ.get(\"PINECONE_API_KEY\")\n",
    "\n",
    "\n"
   ]
  },
  {
   "cell_type": "code",
   "execution_count": 9,
   "id": "e05e916d",
   "metadata": {},
   "outputs": [],
   "source": [
    "pc = Pinecone(api_key=api_key)"
   ]
  },
  {
   "cell_type": "code",
   "execution_count": null,
   "id": "de0cf619",
   "metadata": {},
   "outputs": [],
   "source": [
    "index_name = \"swagger-docs\""
   ]
  },
  {
   "cell_type": "code",
   "execution_count": 12,
   "id": "f793c696",
   "metadata": {},
   "outputs": [
    {
     "data": {
      "text/plain": [
       "{\n",
       "    \"name\": \"hello-pinecone\",\n",
       "    \"metric\": \"cosine\",\n",
       "    \"host\": \"hello-pinecone-r0zzlv1.svc.aped-4627-b74a.pinecone.io\",\n",
       "    \"spec\": {\n",
       "        \"serverless\": {\n",
       "            \"cloud\": \"aws\",\n",
       "            \"region\": \"us-east-1\"\n",
       "        }\n",
       "    },\n",
       "    \"status\": {\n",
       "        \"ready\": true,\n",
       "        \"state\": \"Ready\"\n",
       "    },\n",
       "    \"vector_type\": \"dense\",\n",
       "    \"dimension\": 384,\n",
       "    \"deletion_protection\": \"disabled\",\n",
       "    \"tags\": null\n",
       "}"
      ]
     },
     "execution_count": 12,
     "metadata": {},
     "output_type": "execute_result"
    }
   ],
   "source": [
    "from pinecone import ServerlessSpec, CloudProvider, AwsRegion, Metric\n",
    "\n",
    "pc.create_index(\n",
    "    name=index_name,\n",
    "    metric=Metric.COSINE,\n",
    "    dimension=384,\n",
    "    spec=ServerlessSpec(cloud=CloudProvider.AWS, region=AwsRegion.US_EAST_1),\n",
    ")"
   ]
  },
  {
   "cell_type": "code",
   "execution_count": 13,
   "id": "f12e6830",
   "metadata": {},
   "outputs": [
    {
     "name": "stdout",
     "output_type": "stream",
     "text": [
      "Pinecone API Key: pcsk_3sAEUh_DgPkMm6aWnydMM9MtNiSxLiHMXQxWd8xQSjMuixyJ1P5GDnAfhaydrqCzKsfEhB\n",
      "First 3 chunks:\n",
      "Chunk 0: {'openapi': '3.0.3', 'info': {'title': 'Aviation Industry - Fake API Collection', 'version': '1.0.0', 'description': 'A large collection (100 endpoints) of fake aviation-related APIs with example responses for testing and demo purposes.'}}\n",
      "+++++++\n",
      "Chunk 1: {'servers': [{'url': 'https://api.fake-aviation.example.com', 'description': 'Demo server'}], 'paths': {'/api/v1/aircraft/list': {'get': {'summary': 'List aircraft'}}}}\n",
      "+++++++\n",
      "Chunk 2: {'paths': {'/api/v1/aircraft/list': {'get': {'responses': {'200': {'description': 'Array of aircraft', 'content': {'application/json': {'schema': {'type': 'array', 'items': {'$ref': '#/components/schemas/Aircraft'}}, 'examples': {'list': {'$ref': '#/components/examples/AircraftListExample'}}}}}}}}}}\n",
      "+++++++\n",
      "Created 185 documents\n",
      "Embeddings model loaded\n"
     ]
    }
   ],
   "source": [
    "from langchain_huggingface import HuggingFaceEmbeddings\n",
    "from langchain_community.vectorstores import FAISS\n",
    "from langchain_community.vectorstores import Pinecone as LangchainPinecone\n",
    "from langchain_text_splitters import RecursiveJsonSplitter\n",
    "import json\n",
    "from langchain.schema import Document\n",
    "import os\n",
    "from dotenv import load_dotenv\n",
    "\n",
    "load_dotenv()\n",
    "\n",
    "# Import Pinecone\n",
    "import pinecone\n",
    "\n",
    "PINECONE_API_KEY = os.getenv(\"PINECONE_API_KEY\")\n",
    "print(f\"Pinecone API Key: {PINECONE_API_KEY}\")\n",
    "\n",
    "# Load and process JSON\n",
    "with open('./swagger.json', 'r') as f:\n",
    "    json_data = json.load(f)\n",
    "\n",
    "# Split the raw JSON\n",
    "splitter = RecursiveJsonSplitter(max_chunk_size=300)\n",
    "json_chunks = splitter.split_json(json_data=json_data)\n",
    "\n",
    "print(\"First 3 chunks:\")\n",
    "for i in range(0, min(3, len(json_chunks))):\n",
    "    print(f\"Chunk {i}: {json_chunks[i]}\")\n",
    "    print(\"+++++++\")\n",
    "\n",
    "# Create documents\n",
    "documents = []\n",
    "for i, chunk in enumerate(json_chunks):\n",
    "    text = json.dumps(chunk, indent=2)\n",
    "    doc = Document(\n",
    "        page_content=text,\n",
    "        metadata={\n",
    "            \"chunk_id\": i,\n",
    "            \"source\": \"./swagger.json\",\n",
    "            \"keys\": list(chunk.keys()) if isinstance(chunk, dict) else []\n",
    "        }\n",
    "    )\n",
    "    documents.append(doc)\n",
    "\n",
    "print(f\"Created {len(documents)} documents\")\n",
    "\n",
    "# Initialize embeddings\n",
    "embeddings = HuggingFaceEmbeddings(\n",
    "    model_name=\"sentence-transformers/all-MiniLM-L6-v2\",\n",
    "    model_kwargs={'device': 'cpu'},\n",
    "    encode_kwargs={'normalize_embeddings': True}\n",
    ")\n",
    "print(\"Embeddings model loaded\")\n"
   ]
  },
  {
   "cell_type": "code",
   "execution_count": 14,
   "id": "6fd9852d",
   "metadata": {},
   "outputs": [
    {
     "data": {
      "text/plain": [
       "{\n",
       "    \"name\": \"hello-pinecone\",\n",
       "    \"metric\": \"cosine\",\n",
       "    \"host\": \"hello-pinecone-r0zzlv1.svc.aped-4627-b74a.pinecone.io\",\n",
       "    \"spec\": {\n",
       "        \"serverless\": {\n",
       "            \"cloud\": \"aws\",\n",
       "            \"region\": \"us-east-1\"\n",
       "        }\n",
       "    },\n",
       "    \"status\": {\n",
       "        \"ready\": true,\n",
       "        \"state\": \"Ready\"\n",
       "    },\n",
       "    \"vector_type\": \"dense\",\n",
       "    \"dimension\": 384,\n",
       "    \"deletion_protection\": \"disabled\",\n",
       "    \"tags\": null\n",
       "}"
      ]
     },
     "execution_count": 14,
     "metadata": {},
     "output_type": "execute_result"
    }
   ],
   "source": [
    "description = pc.describe_index(name=index_name)\n",
    "description"
   ]
  },
  {
   "cell_type": "code",
   "execution_count": 19,
   "id": "cfa0eda0",
   "metadata": {},
   "outputs": [
    {
     "name": "stderr",
     "output_type": "stream",
     "text": [
      "C:\\Users\\nikhil.singh\\AppData\\Local\\Temp\\ipykernel_24288\\996665026.py:9: LangChainDeprecationWarning: The class `HuggingFaceEmbeddings` was deprecated in LangChain 0.2.2 and will be removed in 1.0. An updated version of the class exists in the :class:`~langchain-huggingface package and should be used instead. To use it run `pip install -U :class:`~langchain-huggingface` and import as `from :class:`~langchain_huggingface import HuggingFaceEmbeddings``.\n",
      "  embed_model = HuggingFaceEmbeddings(model_name=\"sentence-transformers/all-MiniLM-L6-v2\")\n"
     ]
    },
    {
     "name": "stdout",
     "output_type": "stream",
     "text": [
      "3\n",
      "384\n",
      "✅ Embeddings successfully inserted!\n"
     ]
    }
   ],
   "source": [
    "\n",
    "from langchain.embeddings import HuggingFaceEmbeddings\n",
    "from pinecone import Pinecone\n",
    "import os\n",
    "\n",
    "# 1️⃣ Load your text chunks\n",
    "chunks = [\"This is first chunk\", \"Second chunk here\", \"Third one...\"]\n",
    "\n",
    "# 2️⃣ Initialize the embeddings model\n",
    "embed_model = HuggingFaceEmbeddings(model_name=\"sentence-transformers/all-MiniLM-L6-v2\")\n",
    "\n",
    "# 3️⃣ Generate embeddings (each is a list of floats)\n",
    "embeddings = embed_model.embed_documents(chunks)\n",
    "\n",
    "print(len(embeddings))          # should be 3\n",
    "print(len(embeddings[0]))       # embedding dimension, e.g., 384\n",
    "\n",
    "# 4️⃣ Connect to Pinecone\n",
    "api_key = os.environ.get(\"PINECONE_API_KEY\")\n",
    "pc = Pinecone(api_key=api_key)\n",
    "index = pc.Index(host=description.host)\n",
    "\n",
    "# 5️⃣ Format data for upsert\n",
    "formatted = [\n",
    "    {\"id\": f\"chunk-{i}\", \"values\": emb, \"metadata\": {\"text\": chunks[i]}}\n",
    "    for i, emb in enumerate(embeddings)\n",
    "]\n",
    "\n",
    "# 6️⃣ Upsert to Pinecone\n",
    "index.upsert(vectors=formatted)\n",
    "print(\"✅ Embeddings successfully inserted!\")\n"
   ]
  },
  {
   "cell_type": "code",
   "execution_count": null,
   "id": "021eeff1",
   "metadata": {},
   "outputs": [],
   "source": []
  }
 ],
 "metadata": {
  "kernelspec": {
   "display_name": "venv",
   "language": "python",
   "name": "python3"
  },
  "language_info": {
   "codemirror_mode": {
    "name": "ipython",
    "version": 3
   },
   "file_extension": ".py",
   "mimetype": "text/x-python",
   "name": "python",
   "nbconvert_exporter": "python",
   "pygments_lexer": "ipython3",
   "version": "3.12.10"
  }
 },
 "nbformat": 4,
 "nbformat_minor": 5
}
